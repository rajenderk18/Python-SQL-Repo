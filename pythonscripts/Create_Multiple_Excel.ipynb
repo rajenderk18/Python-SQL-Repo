{
 "cells": [
  {
   "cell_type": "code",
   "execution_count": 6,
   "metadata": {},
   "outputs": [
    {
     "name": "stdout",
     "output_type": "stream",
     "text": [
      "   col 1 col 2  col 3\n",
      "0      1      a    cc\n",
      "1      2      a    cc\n",
      "2      3      a    cc\n",
      "3      4      a    cc\n",
      "4      5      a    dd\n"
     ]
    }
   ],
   "source": [
    "import pandas as pd\n",
    "\n",
    "df = pd.read_excel('H:\\HRA_Codes\\General_Python_Script\\General_Python_Script\\\\22.xlsx')\n",
    "\n",
    "# print whole sheet data\n",
    "print(df.head())\n"
   ]
  },
  {
   "cell_type": "code",
   "execution_count": 4,
   "metadata": {},
   "outputs": [
    {
     "name": "stdout",
     "output_type": "stream",
     "text": [
      "Collecting openpyxl\n",
      "  Using cached openpyxl-3.0.7-py2.py3-none-any.whl (243 kB)\n",
      "Collecting et-xmlfile\n",
      "  Using cached et_xmlfile-1.0.1.tar.gz (8.4 kB)\n",
      "Building wheels for collected packages: et-xmlfile\n",
      "  Building wheel for et-xmlfile (setup.py): started\n",
      "  Building wheel for et-xmlfile (setup.py): finished with status 'done'\n",
      "  Created wheel for et-xmlfile: filename=et_xmlfile-1.0.1-py3-none-any.whl size=8920 sha256=64749c4100378da4b41c562d04992435f0154d1db08ada05a4bb25487d617928\n",
      "  Stored in directory: c:\\users\\rajen\\appdata\\local\\pip\\cache\\wheels\\e2\\bd\\55\\048b4fd505716c4c298f42ee02dffd9496bb6d212b266c7f31\n",
      "Successfully built et-xmlfile\n",
      "Installing collected packages: et-xmlfile, openpyxl\n",
      "Successfully installed et-xmlfile-1.0.1 openpyxl-3.0.7\n"
     ]
    }
   ],
   "source": [
    "# Install a pip package in the current Jupyter kernel\n",
    "import sys\n",
    "# !{sys.executable} -m pip install pandas\n",
    "# !{sys.executable} -m pip install openpyxl"
   ]
  },
  {
   "cell_type": "code",
   "execution_count": 16,
   "metadata": {},
   "outputs": [
    {
     "name": "stdout",
     "output_type": "stream",
     "text": [
      "    col 1 col 2  col 3\n",
      "17     18      a    aa\n",
      "14     15      a    aa\n",
      "13     14      a    aa\n",
      "12     13      a    aa\n",
      "11     12      a    aa\n",
      "16     17      a    aa\n",
      "15     16      a    aa\n",
      "0       1      a    cc\n",
      "3       4      a    cc\n",
      "2       3      a    cc\n",
      "1       2      a    cc\n",
      "6       7      a    dd\n",
      "9      10      a    dd\n",
      "10     11      a    dd\n",
      "5       6      a    dd\n",
      "4       5      a    dd\n",
      "7       8      a    dd\n",
      "8       9      a    dd\n"
     ]
    }
   ],
   "source": [
    "df = df.sort_values('col 3', ascending = True)\n",
    "print(df)"
   ]
  },
  {
   "cell_type": "code",
   "execution_count": 17,
   "metadata": {},
   "outputs": [
    {
     "name": "stderr",
     "output_type": "stream",
     "text": [
      "C:\\Users\\rajen\\AppData\\Local\\Continuum\\anaconda3\\envs\\testsql\\lib\\site-packages\\ipykernel_launcher.py:1: UserWarning: DataFrame columns are not unique, some columns will be omitted.\n",
      "  \"\"\"Entry point for launching an IPython kernel.\n"
     ]
    },
    {
     "data": {
      "text/plain": [
       "{'aa': [16, 'a'], 'cc': [2, 'a'], 'dd': [9, 'a']}"
      ]
     },
     "execution_count": 17,
     "metadata": {},
     "output_type": "execute_result"
    }
   ],
   "source": [
    " df.set_index('col 3').T.to_dict('list')"
   ]
  },
  {
   "cell_type": "code",
   "execution_count": 21,
   "metadata": {},
   "outputs": [
    {
     "name": "stdout",
     "output_type": "stream",
     "text": [
      "    col 1 col 2  col 3\n",
      "17     18      a    aa\n",
      "14     15      a    aa\n",
      "13     14      a    aa\n",
      "12     13      a    aa\n",
      "11     12      a    aa\n",
      "16     17      a    aa\n",
      "15     16      a    aa\n",
      "0       1      a    cc\n",
      "3       4      a    cc\n",
      "2       3      a    cc\n",
      "1       2      a    cc\n",
      "6       7      a    dd\n",
      "9      10      a    dd\n",
      "10     11      a    dd\n",
      "5       6      a    dd\n",
      "4       5      a    dd\n",
      "7       8      a    dd\n",
      "8       9      a    dd\n",
      "['aa', 'cc', 'dd']\n"
     ]
    }
   ],
   "source": [
    "# sort the dataframe\n",
    "# df.sort_values(by='col 3', axis=1, inplace=True)\n",
    "\n",
    "# set the index to be this and don't drop\n",
    "# df.set_index(keys=['col 3'], drop=False,inplace=True)\n",
    "\n",
    "# get a list of names\n",
    "names=df['col 3'].unique().tolist()\n",
    "\n",
    "print(df)\n",
    "print(names)\n",
    "\n",
    "# now we can perform a lookup on a 'view' of the dataframe\n",
    "# joe = df.loc[df.name=='joe']\n",
    "\n",
    "# now you can query all 'joes'"
   ]
  },
  {
   "cell_type": "code",
   "execution_count": 27,
   "metadata": {},
   "outputs": [
    {
     "name": "stdout",
     "output_type": "stream",
     "text": [
      "aa\n",
      "cc\n",
      "dd\n"
     ]
    }
   ],
   "source": [
    "for x in names:\n",
    "  print(x)\n",
    "  df[df['col 3'] == x].to_excel(str(x) + '.xlsx')  "
   ]
  },
  {
   "cell_type": "code",
   "execution_count": 26,
   "metadata": {},
   "outputs": [
    {
     "data": {
      "text/html": [
       "<div>\n",
       "<style scoped>\n",
       "    .dataframe tbody tr th:only-of-type {\n",
       "        vertical-align: middle;\n",
       "    }\n",
       "\n",
       "    .dataframe tbody tr th {\n",
       "        vertical-align: top;\n",
       "    }\n",
       "\n",
       "    .dataframe thead th {\n",
       "        text-align: right;\n",
       "    }\n",
       "</style>\n",
       "<table border=\"1\" class=\"dataframe\">\n",
       "  <thead>\n",
       "    <tr style=\"text-align: right;\">\n",
       "      <th></th>\n",
       "      <th>col 1</th>\n",
       "      <th>col 2</th>\n",
       "      <th>col 3</th>\n",
       "    </tr>\n",
       "  </thead>\n",
       "  <tbody>\n",
       "    <tr>\n",
       "      <th>17</th>\n",
       "      <td>18</td>\n",
       "      <td>a</td>\n",
       "      <td>aa</td>\n",
       "    </tr>\n",
       "    <tr>\n",
       "      <th>14</th>\n",
       "      <td>15</td>\n",
       "      <td>a</td>\n",
       "      <td>aa</td>\n",
       "    </tr>\n",
       "    <tr>\n",
       "      <th>13</th>\n",
       "      <td>14</td>\n",
       "      <td>a</td>\n",
       "      <td>aa</td>\n",
       "    </tr>\n",
       "    <tr>\n",
       "      <th>12</th>\n",
       "      <td>13</td>\n",
       "      <td>a</td>\n",
       "      <td>aa</td>\n",
       "    </tr>\n",
       "    <tr>\n",
       "      <th>11</th>\n",
       "      <td>12</td>\n",
       "      <td>a</td>\n",
       "      <td>aa</td>\n",
       "    </tr>\n",
       "    <tr>\n",
       "      <th>16</th>\n",
       "      <td>17</td>\n",
       "      <td>a</td>\n",
       "      <td>aa</td>\n",
       "    </tr>\n",
       "    <tr>\n",
       "      <th>15</th>\n",
       "      <td>16</td>\n",
       "      <td>a</td>\n",
       "      <td>aa</td>\n",
       "    </tr>\n",
       "  </tbody>\n",
       "</table>\n",
       "</div>"
      ],
      "text/plain": [
       "    col 1 col 2  col 3\n",
       "17     18      a    aa\n",
       "14     15      a    aa\n",
       "13     14      a    aa\n",
       "12     13      a    aa\n",
       "11     12      a    aa\n",
       "16     17      a    aa\n",
       "15     16      a    aa"
      ]
     },
     "execution_count": 26,
     "metadata": {},
     "output_type": "execute_result"
    }
   ],
   "source": []
  },
  {
   "cell_type": "code",
   "execution_count": null,
   "metadata": {},
   "outputs": [],
   "source": []
  }
 ],
 "metadata": {
  "kernelspec": {
   "display_name": "Python 3",
   "language": "python",
   "name": "python3"
  },
  "language_info": {
   "codemirror_mode": {
    "name": "ipython",
    "version": 3
   },
   "file_extension": ".py",
   "mimetype": "text/x-python",
   "name": "python",
   "nbconvert_exporter": "python",
   "pygments_lexer": "ipython3",
   "version": "3.7.6"
  }
 },
 "nbformat": 4,
 "nbformat_minor": 4
}
